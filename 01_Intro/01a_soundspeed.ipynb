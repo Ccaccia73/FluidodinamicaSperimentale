{
 "cells": [
  {
   "cell_type": "markdown",
   "metadata": {},
   "source": [
    "# Sound Speed"
   ]
  },
  {
   "cell_type": "code",
   "execution_count": 1,
   "metadata": {
    "collapsed": true
   },
   "outputs": [],
   "source": [
    "import numpy as np\n",
    "\n",
    "#from scipy import stats\n",
    "\n",
    "import matplotlib.pyplot as plt\n",
    "%matplotlib inline\n",
    "from matplotlib import rcParams\n",
    "rcParams['font.family'] = 'serif'\n",
    "rcParams['font.size'] = 14"
   ]
  },
  {
   "cell_type": "code",
   "execution_count": 4,
   "metadata": {
    "collapsed": true
   },
   "outputs": [],
   "source": [
    "import sympy\n",
    "sympy.init_printing()"
   ]
  },
  {
   "cell_type": "code",
   "execution_count": 3,
   "metadata": {
    "collapsed": true
   },
   "outputs": [],
   "source": [
    "from IPython.display import Image"
   ]
  },
  {
   "cell_type": "markdown",
   "metadata": {},
   "source": [
    "## Misura diretta della velocità del suono"
   ]
  },
  {
   "cell_type": "code",
   "execution_count": 2,
   "metadata": {
    "collapsed": false
   },
   "outputs": [
    {
     "data": {
      "image/png": "[encoded data removed]",
      "text/plain": [
       "<IPython.core.display.Image object>"
      ]
     },
     "execution_count": 2,
     "metadata": {},
     "output_type": "execute_result"
    }
   ],
   "source": [
    "Image(\"./soundspeed.png\")"
   ]
  },
  {
   "cell_type": "markdown",
   "metadata": {},
   "source": [
    "Propagazione degli errori"
   ]
  },
  {
   "cell_type": "code",
   "execution_count": 36,
   "metadata": {
    "collapsed": false
   },
   "outputs": [],
   "source": [
    "d, τ = sympy.symbols('d \\\\tau')\n",
    "s, σs = sympy.symbols('s \\sigma_s')\n",
    "δd, δτ = sympy.symbols('{\\delta}d \\delta\\\\tau')"
   ]
  },
  {
   "cell_type": "code",
   "execution_count": 37,
   "metadata": {
    "collapsed": false
   },
   "outputs": [
    {
     "data": {
      "image/png": "[encoded data removed]",
      "text/latex": [
       "$$\\frac{d}{\\tau}$$"
      ],
      "text/plain": [
       " d  \n",
       "────\n",
       "\\tau"
      ]
     },
     "execution_count": 37,
     "metadata": {},
     "output_type": "execute_result"
    }
   ],
   "source": [
    "s = d / τ\n",
    "s"
   ]
  },
  {
   "cell_type": "code",
   "execution_count": 38,
   "metadata": {
    "collapsed": false
   },
   "outputs": [
    {
     "data": {
      "image/png": "[encoded data removed]",
      "text/latex": [
       "$$\\left ( \\frac{1}{\\tau}, \\quad - \\frac{d}{\\tau^{2}}\\right )$$"
      ],
      "text/plain": [
       "⎛ 1     -d  ⎞\n",
       "⎜────, ─────⎟\n",
       "⎜\\tau      2⎟\n",
       "⎝      \\tau ⎠"
      ]
     },
     "execution_count": 38,
     "metadata": {},
     "output_type": "execute_result"
    }
   ],
   "source": [
    "s.diff(d), s.diff(τ)"
   ]
  },
  {
   "cell_type": "code",
   "execution_count": 39,
   "metadata": {
    "collapsed": false
   },
   "outputs": [
    {
     "data": {
      "image/png": "[encoded data removed]",
      "text/latex": [
       "$$\\sqrt{\\frac{\\delta\\tau^{2} d^{2}}{\\tau^{4}} + \\frac{{\\delta}d^{2}}{\\tau^{2}}}$$"
      ],
      "text/plain": [
       "      _____________________________\n",
       "     ╱           2  2            2 \n",
       "    ╱  \\delta\\tau ⋅d    {\\delta}d  \n",
       "   ╱   ────────────── + ────────── \n",
       "  ╱            4              2    \n",
       "╲╱         \\tau           \\tau     "
      ]
     },
     "execution_count": 39,
     "metadata": {},
     "output_type": "execute_result"
    }
   ],
   "source": [
    "σs = sympy.sqrt(s.diff(d)**2 * δd**2 + s.diff(τ)**2 * δτ**2 )\n",
    "σs"
   ]
  },
  {
   "cell_type": "markdown",
   "metadata": {},
   "source": [
    "**Esempio numerico**"
   ]
  },
  {
   "cell_type": "code",
   "execution_count": 51,
   "metadata": {
    "collapsed": true
   },
   "outputs": [],
   "source": [
    "values = {d:24.050, δd: 0.001, τ: 0.073, δτ:0.001}"
   ]
  },
  {
   "cell_type": "markdown",
   "metadata": {},
   "source": [
    "Velocità media"
   ]
  },
  {
   "cell_type": "code",
   "execution_count": 52,
   "metadata": {
    "collapsed": false
   },
   "outputs": [
    {
     "data": {
      "image/png": "[encoded data removed]",
      "text/latex": [
       "$$329.452054794521$$"
      ],
      "text/plain": [
       "329.452054794521"
      ]
     },
     "execution_count": 52,
     "metadata": {},
     "output_type": "execute_result"
    }
   ],
   "source": [
    "s.evalf(subs=values)"
   ]
  },
  {
   "cell_type": "markdown",
   "metadata": {},
   "source": [
    "Stima errore"
   ]
  },
  {
   "cell_type": "code",
   "execution_count": 54,
   "metadata": {
    "collapsed": false
   },
   "outputs": [
    {
     "data": {
      "image/png": "[encoded data removed]",
      "text/latex": [
       "$$4.51306263647319$$"
      ],
      "text/plain": [
       "4.51306263647319"
      ]
     },
     "execution_count": 54,
     "metadata": {},
     "output_type": "execute_result"
    }
   ],
   "source": [
    "σs.evalf(subs=values)"
   ]
  },
  {
   "cell_type": "markdown",
   "metadata": {},
   "source": [
    "#Analisi statistica"
   ]
  },
  {
   "cell_type": "code",
   "execution_count": 48,
   "metadata": {
    "collapsed": false
   },
   "outputs": [],
   "source": [
    "# %load ./data/soundspeed_data.py\n",
    "dataset = np.array([330.793, 347.608, 340.161, 351.603, 348.962, 360.82, \n",
    "   345.618, 341.829, 334.526, 347.399, 349.509, 356.649, 347.129, \n",
    "   347.296, 344.623, 350.132, 342.273, 371.481, 339.408, 331.054, \n",
    "   345.452, 350.786, 341.711, 355.499, 342.717, 336.538, 357.517, \n",
    "   372.733, 356.538, 352.239, 323.304, 353.649, 340.606, 339.881, \n",
    "   342.915, 342.171, 338.838, 343.739, 332.648, 347.646, 344.392, \n",
    "   371.976, 352.969, 345.543, 361.907, 363.633, 333.5, 366.928, \n",
    "   347.05, 345.105, 345.676, 352.965, 343.981, 348.23, 339.477, \n",
    "   343.924, 349.683, 329.639, 336.498, 350.769, 348.734, 342.892, \n",
    "   360.221, 329.512, 351.761, 323., 337.376, 353.374, 350.114, \n",
    "   346.227, 335.053, 350.673, 360.881, 347.094, 336.263, 343.901, \n",
    "   363.496, 343.983, 338.382, 348.532, 337.751, 353.78, 339.192, \n",
    "   339.058, 353.905, 344.54, 348.03, 343.426, 347.531, 341.87, \n",
    "   341.389, 359.802, 364.441, 349.45, 351.122, 361.167, 335.262, \n",
    "   350.285, 328.241, 351.755, 352.586, 344.817, 328.925, 354.69, \n",
    "   333.851, 341.169, 331.229, 347.09, 339.64, 340.672, 345.278, \n",
    "   347.26, 321.601, 344.781, 347.201, 361.738, 348.226, 353.612, \n",
    "   353.391, 361.215, 364.371, 341.69, 334.552, 349.007, 346.119, \n",
    "   346.698, 358.854, 373.433, 335.959, 346.592, 346.21, 344.366, \n",
    "   348.383, 339.154, 347.751, 343.959, 329.895, 344.854, 349.671, \n",
    "   339.703, 343.17, 337.589, 347.439, 331.508, 349.315, 359.947, \n",
    "   357.571, 365.693, 326.418, 349.829, 335.208, 347.018, 339.867, \n",
    "   352.044, 355.842, 350.147, 336.481, 339.503, 361.543, 343.906, \n",
    "   352.917, 344.733, 347.213, 332.8, 340.673, 357.268, 325.603, \n",
    "   344.844, 345.682, 326.714, 339.32, 343.388, 371.901, 351.202, \n",
    "   344.528, 345.292, 344.089, 341.703, 353.887, 346.728, 344.715, \n",
    "   354.317, 359.252, 347.125, 341.172, 352.223, 345.84, 330.266, \n",
    "   338.685, 332.791, 340.896, 356.199, 339.411, 348.495, 337.2, \n",
    "   348.546, 360.138, 323.439, 352.281, 354.874, 358.04, 338.435, \n",
    "   335.333, 358.524, 345.365, 362.098, 343.392, 348.645, 354.481, \n",
    "   355.474, 328.19, 356.448, 349.276, 337.576, 353.573, 335.806, \n",
    "   351.113, 344.842, 356.974, 365.818, 352.844, 340.352, 343.46, \n",
    "   358.616, 348.095, 348.208, 351.043, 321.495, 341.316, 347.947, \n",
    "   342.024, 347.586, 361.495, 353.138, 341.548, 346.484, 347.155, \n",
    "   347.788, 372.464, 348.929, 341.407, 359.722, 359.885, 336.697, \n",
    "   344.336, 360.025, 332.806, 351.605, 351.244, 347.596, 364.223, \n",
    "   341.995, 344.228, 364.158, 346.247, 346.516, 343.017, 345.342, \n",
    "   335.98, 349.397, 355.693, 335.536, 359.872, 342.694, 357.685, \n",
    "   354.064, 345.729, 347.846, 342.058, 352.979, 341.973, 358.441, \n",
    "   343.626, 361.117, 356.922, 360.838, 349.574, 339.161, 357.519, \n",
    "   343.332, 357.675, 341.637, 328.33, 350.613, 348.603, 334.125, \n",
    "   338.147, 337.408, 371.756, 352.786, 343.079, 341.86, 358.611, \n",
    "   351.87, 341.142, 327.583, 353.19, 329.943, 350.381, 352.968, \n",
    "   351.195, 348.651, 359.548, 351.267, 351.867, 339.668, 345.899, \n",
    "   349.413, 343.311, 335.194, 353.049, 350.367, 343.747, 329.301, \n",
    "   339.95, 352.889, 364.465, 355.694, 349.146, 366.359, 351.826, \n",
    "   329.03, 333.492, 342.29, 349.124, 351.26, 356.571, 330.323, \n",
    "   355.601, 357.409, 358.127, 340.977, 347.204, 352.523, 320.776, \n",
    "   343.723, 348.551, 359.214, 347.814, 352.949, 360.842, 342.058, \n",
    "   351.515, 339.404, 351.291, 348.16, 340.047, 341.184, 350.17, \n",
    "   357.305, 350.031, 357.934, 353.276, 359.622, 331.558, 335.483, \n",
    "   380.174, 350.261, 339.146, 341.117, 353.023, 351.777, 340.753, \n",
    "   335.367, 354.878, 343.89, 321.495, 347.175, 334.225, 347.108, \n",
    "   351.305, 319.389, 344.785, 356.836, 348.046, 353.854, 362.315, \n",
    "   361.338, 349.369, 345.381, 352.491, 367.478, 350.008, 352.287, \n",
    "   353.202, 354.687, 350.143, 351.87, 347.256, 334.494, 341.95, \n",
    "   326.729, 343.487, 370.544, 333.996, 361.234, 338.92, 342.956, \n",
    "   350.919, 330.509])\n"
   ]
  },
  {
   "cell_type": "code",
   "execution_count": 47,
   "metadata": {
    "collapsed": false
   },
   "outputs": [
    {
     "data": {
      "image/png": "[encoded data removed]",
      "text/latex": [
       "$$400$$"
      ],
      "text/plain": [
       "400"
      ]
     },
     "execution_count": 47,
     "metadata": {},
     "output_type": "execute_result"
    }
   ],
   "source": [
    "n = len(dataset)"
   ]
  },
  {
   "cell_type": "code",
   "execution_count": 44,
   "metadata": {
    "collapsed": false
   },
   "outputs": [
    {
     "ename": "NameError",
     "evalue": "name 'np' is not defined",
     "output_type": "error",
     "traceback": [
      "\u001b[0;31m---------------------------------------------------------------------------\u001b[0m",
      "\u001b[0;31mNameError\u001b[0m                                 Traceback (most recent call last)",
      "\u001b[0;32m/home/claudio/Documents/00_Aero/07_FluidodinamicaSperimentale/01_Materiale/20_python/FluidodinamicaSperimentale/01_Intro/data/soundspeed_data.py\u001b[0m in \u001b[0;36m<module>\u001b[0;34m()\u001b[0m\n\u001b[0;32m----> 1\u001b[0;31m dataset = np.array([330.793, 347.608, 340.161, 351.603, 348.962, 360.82, \n\u001b[0m\u001b[1;32m      2\u001b[0m    \u001b[0;36m345.618\u001b[0m\u001b[0;34m,\u001b[0m \u001b[0;36m341.829\u001b[0m\u001b[0;34m,\u001b[0m \u001b[0;36m334.526\u001b[0m\u001b[0;34m,\u001b[0m \u001b[0;36m347.399\u001b[0m\u001b[0;34m,\u001b[0m \u001b[0;36m349.509\u001b[0m\u001b[0;34m,\u001b[0m \u001b[0;36m356.649\u001b[0m\u001b[0;34m,\u001b[0m \u001b[0;36m347.129\u001b[0m\u001b[0;34m,\u001b[0m\u001b[0;34m\u001b[0m\u001b[0m\n\u001b[1;32m      3\u001b[0m    \u001b[0;36m347.296\u001b[0m\u001b[0;34m,\u001b[0m \u001b[0;36m344.623\u001b[0m\u001b[0;34m,\u001b[0m \u001b[0;36m350.132\u001b[0m\u001b[0;34m,\u001b[0m \u001b[0;36m342.273\u001b[0m\u001b[0;34m,\u001b[0m \u001b[0;36m371.481\u001b[0m\u001b[0;34m,\u001b[0m \u001b[0;36m339.408\u001b[0m\u001b[0;34m,\u001b[0m \u001b[0;36m331.054\u001b[0m\u001b[0;34m,\u001b[0m\u001b[0;34m\u001b[0m\u001b[0m\n\u001b[1;32m      4\u001b[0m    \u001b[0;36m345.452\u001b[0m\u001b[0;34m,\u001b[0m \u001b[0;36m350.786\u001b[0m\u001b[0;34m,\u001b[0m \u001b[0;36m341.711\u001b[0m\u001b[0;34m,\u001b[0m \u001b[0;36m355.499\u001b[0m\u001b[0;34m,\u001b[0m \u001b[0;36m342.717\u001b[0m\u001b[0;34m,\u001b[0m \u001b[0;36m336.538\u001b[0m\u001b[0;34m,\u001b[0m \u001b[0;36m357.517\u001b[0m\u001b[0;34m,\u001b[0m\u001b[0;34m\u001b[0m\u001b[0m\n\u001b[1;32m      5\u001b[0m    \u001b[0;36m372.733\u001b[0m\u001b[0;34m,\u001b[0m \u001b[0;36m356.538\u001b[0m\u001b[0;34m,\u001b[0m \u001b[0;36m352.239\u001b[0m\u001b[0;34m,\u001b[0m \u001b[0;36m323.304\u001b[0m\u001b[0;34m,\u001b[0m \u001b[0;36m353.649\u001b[0m\u001b[0;34m,\u001b[0m \u001b[0;36m340.606\u001b[0m\u001b[0;34m,\u001b[0m \u001b[0;36m339.881\u001b[0m\u001b[0;34m,\u001b[0m\u001b[0;34m\u001b[0m\u001b[0m\n",
      "\u001b[0;31mNameError\u001b[0m: name 'np' is not defined"
     ]
    }
   ],
   "source": []
  },
  {
   "cell_type": "code",
   "execution_count": null,
   "metadata": {
    "collapsed": true
   },
   "outputs": [],
   "source": []
  }
 ],
 "metadata": {
  "anaconda-cloud": {},
  "kernelspec": {
   "display_name": "Python [conda env:py35]",
   "language": "python",
   "name": "conda-env-py35-py"
  },
  "language_info": {
   "codemirror_mode": {
    "name": "ipython",
    "version": 3
   },
   "file_extension": ".py",
   "mimetype": "text/x-python",
   "name": "python",
   "nbconvert_exporter": "python",
   "pygments_lexer": "ipython3",
   "version": "3.5.2"
  }
 },
 "nbformat": 4,
 "nbformat_minor": 1
}
